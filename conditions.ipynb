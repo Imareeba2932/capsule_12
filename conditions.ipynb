{
 "cells": [
  {
   "attachments": {},
   "cell_type": "markdown",
   "metadata": {},
   "source": [
    "### IF CONDITION"
   ]
  },
  {
   "cell_type": "code",
   "execution_count": 1,
   "metadata": {},
   "outputs": [
    {
     "name": "stdout",
     "output_type": "stream",
     "text": [
      "b is greater than a \n",
      "c is greater than a\n",
      "c is greater than b\n"
     ]
    }
   ],
   "source": [
    "a=5\n",
    "b=10\n",
    "c=20\n",
    "if a>b:\n",
    "    print('a is greater than b')\n",
    "if a>c:\n",
    "    print('a is greater than c')\n",
    "if b>a:\n",
    "    print('b is greater than a ')\n",
    "if b>c:\n",
    "    print('b is greater than c')\n",
    "if c>a:\n",
    "    print('c is greater than a')\n",
    "if c>b:\n",
    "    print('c is greater than b')\n",
    "\n",
    "\n"
   ]
  },
  {
   "attachments": {},
   "cell_type": "markdown",
   "metadata": {},
   "source": [
    "### ELIF"
   ]
  },
  {
   "cell_type": "code",
   "execution_count": 2,
   "metadata": {},
   "outputs": [
    {
     "name": "stdout",
     "output_type": "stream",
     "text": [
      "b is greater than a \n"
     ]
    }
   ],
   "source": [
    "a=5\n",
    "b=10\n",
    "c=20\n",
    "if a>b:\n",
    "    print('a is greater than b')\n",
    "elif a>c:\n",
    "    print('a is greater than c')\n",
    "elif b>a:\n",
    "    print('b is greater than a ')\n",
    "elif b>c:\n",
    "    print('b is greater than c')\n",
    "elif c>a:\n",
    "    print('c is greater than a')\n",
    "elif c>b:\n",
    "    print('c is greater than b')\n",
    "else:\n",
    "    print('Comparison is out of range 😒😒')\n"
   ]
  },
  {
   "attachments": {},
   "cell_type": "markdown",
   "metadata": {},
   "source": [
    "### IF ELSE"
   ]
  },
  {
   "cell_type": "code",
   "execution_count": 3,
   "metadata": {},
   "outputs": [
    {
     "name": "stdout",
     "output_type": "stream",
     "text": [
      "a is greater than b\n"
     ]
    }
   ],
   "source": [
    "a=10\n",
    "b=5\n",
    "if a>b:\n",
    "    print(\"a is greater than b\")\n",
    "else:\n",
    "    print(\"a is less than b\")"
   ]
  },
  {
   "cell_type": "code",
   "execution_count": 4,
   "metadata": {},
   "outputs": [
    {
     "name": "stdout",
     "output_type": "stream",
     "text": [
      "i am taller 😁\n"
     ]
    }
   ],
   "source": [
    "a=10\n",
    "b=15\n",
    "if a>b:\n",
    "    print(\"You are taller than a giraffe🦒\")\n",
    "else:\n",
    "\n",
    "    print(\"i am taller 😁\")"
   ]
  },
  {
   "cell_type": "code",
   "execution_count": 5,
   "metadata": {},
   "outputs": [
    {
     "name": "stdout",
     "output_type": "stream",
     "text": [
      "password do not match😢\n"
     ]
    }
   ],
   "source": [
    "username=input('Enter your name:')\n",
    "email=input('Enter your email:')\n",
    "pwd=input('Enter your password:')\n",
    "pwd2=input('Confirm your password:')\n",
    "\n",
    "if len(username)>=4 and len(username)<=15:\n",
    "    if'@' in email and email.islower() and len(email)>10:\n",
    "        if len(pwd)>=6 and pwd!=username:\n",
    "            if pwd==pwd2:\n",
    "                  print(\"Hurray😁\")\n",
    "            else:\n",
    "                print(\"password do not match😢\")\n",
    "        else:\n",
    "            print(\"password is invalid\")\n",
    "    else:\n",
    "        print(\"email is invalid 🤷‍♂️ \")    \n",
    "else:\n",
    "    print(\"username is invalid\")   "
   ]
  },
  {
   "cell_type": "code",
   "execution_count": 1,
   "metadata": {},
   "outputs": [
    {
     "name": "stdout",
     "output_type": "stream",
     "text": [
      "a is odd\n"
     ]
    }
   ],
   "source": [
    "a=int(input(\"Enter a number:\"))\n",
    "if a%2==0:\n",
    "    print(\"a is even\")\n",
    "else:\n",
    "    print(\"a is odd\")"
   ]
  },
  {
   "cell_type": "code",
   "execution_count": 2,
   "metadata": {},
   "outputs": [
    {
     "name": "stdout",
     "output_type": "stream",
     "text": [
      "The Grudge | 10\n",
      "The Conjuring | 13\n",
      "The Nun | 7\n",
      "The Ring | 8\n",
      "The Exorcist | 12\n"
     ]
    }
   ],
   "source": [
    "movies=['The Grudge','The Conjuring','The Nun','The Ring','The Exorcist']\n",
    "for movie in movies:\n",
    "    print(f'{movie} | {len(movie)}')"
   ]
  },
  {
   "attachments": {},
   "cell_type": "markdown",
   "metadata": {},
   "source": [
    "### WHILE LOOP"
   ]
  },
  {
   "cell_type": "code",
   "execution_count": 4,
   "metadata": {},
   "outputs": [
    {
     "name": "stdout",
     "output_type": "stream",
     "text": [
      "run\n",
      "run\n",
      "run\n",
      "run\n",
      "stop\n"
     ]
    }
   ],
   "source": [
    "x=1\n",
    "while x<5:\n",
    "    print('run')\n",
    "    x+=1\n",
    "print('stop')"
   ]
  },
  {
   "cell_type": "code",
   "execution_count": null,
   "metadata": {},
   "outputs": [],
   "source": []
  }
 ],
 "metadata": {
  "kernelspec": {
   "display_name": "base",
   "language": "python",
   "name": "python3"
  },
  "language_info": {
   "codemirror_mode": {
    "name": "ipython",
    "version": 3
   },
   "file_extension": ".py",
   "mimetype": "text/x-python",
   "name": "python",
   "nbconvert_exporter": "python",
   "pygments_lexer": "ipython3",
   "version": "3.9.12"
  },
  "orig_nbformat": 4
 },
 "nbformat": 4,
 "nbformat_minor": 2
}
