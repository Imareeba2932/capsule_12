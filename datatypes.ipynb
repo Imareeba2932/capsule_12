{
 "cells": [
  {
   "cell_type": "code",
   "execution_count": 3,
   "metadata": {},
   "outputs": [
    {
     "name": "stdout",
     "output_type": "stream",
     "text": [
      "10\n",
      "-21\n"
     ]
    }
   ],
   "source": [
    "#integer\n",
    "a=10\n",
    "b=-21\n",
    "print(a)\n",
    "print(b)"
   ]
  },
  {
   "cell_type": "code",
   "execution_count": 4,
   "metadata": {},
   "outputs": [
    {
     "name": "stdout",
     "output_type": "stream",
     "text": [
      "10.5\n"
     ]
    }
   ],
   "source": [
    "#float\n",
    "c=10.5\n",
    "d=-21.5\n",
    "print(c)"
   ]
  },
  {
   "cell_type": "code",
   "execution_count": 7,
   "metadata": {},
   "outputs": [
    {
     "name": "stdout",
     "output_type": "stream",
     "text": [
      "True\n",
      "False\n"
     ]
    }
   ],
   "source": [
    "#boolean\n",
    "a=True\n",
    "b=False\n",
    "print(a)\n",
    "print(b)"
   ]
  },
  {
   "cell_type": "code",
   "execution_count": 10,
   "metadata": {},
   "outputs": [
    {
     "name": "stdout",
     "output_type": "stream",
     "text": [
      "None\n"
     ]
    }
   ],
   "source": [
    "#none\n",
    "a=None\n",
    "print(a)"
   ]
  },
  {
   "attachments": {},
   "cell_type": "markdown",
   "metadata": {},
   "source": [
    "SPECIAL DATATYPES"
   ]
  },
  {
   "cell_type": "code",
   "execution_count": 14,
   "metadata": {},
   "outputs": [
    {
     "name": "stdout",
     "output_type": "stream",
     "text": [
      "['apple', 'banana', 'cherry', 'orange', 'kiwi', 'melon', 'mango', 'grapes', 'papaya', 'pineapple', 'strawberry', 'watermelon', 'pomegranate', 'pear', 'peach', 'plum', 'guava', 'apricot', 'avocado', 'fig', 'gooseberry', 'jackfruit', 'lemon', 'lychee', 'muskmelon', 'olive', 'pomelo', 'raspberry', 'starfruit', 'tamarind']\n"
     ]
    }
   ],
   "source": [
    "#list\n",
    "fruits=[\"apple\",\"banana\",\"cherry\",\"orange\",\"kiwi\",\"melon\",\"mango\",\"grapes\",\"papaya\",\"pineapple\",\"strawberry\",\"watermelon\",\"pomegranate\",\"pear\",\"peach\",\"plum\",\"guava\",\"apricot\",\"avocado\",\"fig\",\"gooseberry\",\"jackfruit\",\"lemon\",\"lychee\"\n",
    "        ,\"muskmelon\",\"olive\",\"pomelo\",\"raspberry\",\"starfruit\",\"tamarind\"]\n",
    "print(fruits)"
   ]
  },
  {
   "cell_type": "code",
   "execution_count": 15,
   "metadata": {},
   "outputs": [
    {
     "name": "stdout",
     "output_type": "stream",
     "text": [
      "('apple', 'banana', 'cherry', 'orange', 'kiwi', 'melon', 'mango', 'grapes', 'papaya', 'pineapple', 'strawberry', 'watermelon', 'pomegranate', 'pear', 'peach', 'plum', 'guava', 'apricot', 'avocado', 'fig', 'gooseberry', 'jackfruit', 'lemon', 'lychee')\n"
     ]
    }
   ],
   "source": [
    "#tuple\n",
    "fruits=('apple','banana','cherry','orange','kiwi','melon','mango','grapes','papaya','pineapple','strawberry','watermelon','pomegranate','pear','peach',\n",
    "        'plum','guava','apricot','avocado','fig','gooseberry','jackfruit','lemon','lychee')\n",
    "print(fruits)"
   ]
  },
  {
   "cell_type": "code",
   "execution_count": 16,
   "metadata": {},
   "outputs": [
    {
     "name": "stdout",
     "output_type": "stream",
     "text": [
      "{1, 2, 3, 4, 5, 6, 7, 8, 9, 10, 11, 12, 13, 14, 15, 16, 43, 56}\n"
     ]
    }
   ],
   "source": [
    "#sets\n",
    "a={1,2,3,4,5,6,7,8,9,10,11,12,13,14,15, 16,2,3,5,1,56,43,10}\n",
    "print(a)"
   ]
  },
  {
   "cell_type": "code",
   "execution_count": 17,
   "metadata": {},
   "outputs": [
    {
     "name": "stdout",
     "output_type": "stream",
     "text": [
      "{'name': 'John', 'age': 36, 'country': 'Norway'}\n"
     ]
    }
   ],
   "source": [
    "#dictionary\n",
    "a={\"name\":\"John\",\"age\":36,\"country\":\"Norway\"}\n",
    "print(a)"
   ]
  },
  {
   "cell_type": "code",
   "execution_count": null,
   "metadata": {},
   "outputs": [],
   "source": []
  }
 ],
 "metadata": {
  "kernelspec": {
   "display_name": "base",
   "language": "python",
   "name": "python3"
  },
  "language_info": {
   "codemirror_mode": {
    "name": "ipython",
    "version": 3
   },
   "file_extension": ".py",
   "mimetype": "text/x-python",
   "name": "python",
   "nbconvert_exporter": "python",
   "pygments_lexer": "ipython3",
   "version": "3.9.12"
  },
  "orig_nbformat": 4
 },
 "nbformat": 4,
 "nbformat_minor": 2
}
